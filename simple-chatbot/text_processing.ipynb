{
 "cells": [
  {
   "cell_type": "markdown",
   "metadata": {},
   "source": [
    "# Basic text processing technique"
   ]
  },
  {
   "cell_type": "markdown",
   "metadata": {},
   "source": [
    "## Tokenise Paragraphs To Sentences\n"
   ]
  },
  {
   "cell_type": "code",
   "execution_count": 9,
   "metadata": {},
   "outputs": [
    {
     "name": "stdout",
     "output_type": "stream",
     "text": [
      "[\"Isa Briones' character Daj appears on screen, pleading for Picard's help and shelter.\", '\"Everything inside me says I am safe with you.\"', 'Cut to Picard at Starfleet, telling someone across from him: \"If she is who I think she is, she is in serious danger.\"', \"Others throughout the trailer allude to Briones' character not knowing who she is, or what she's capable of.\"]\n"
     ]
    }
   ],
   "source": [
    "from nltk.tokenize import sent_tokenize\n",
    "text = \"\"\"Isa Briones' character Daj appears on screen, pleading for Picard's help and shelter. \"Everything inside me says I am safe with you.\" Cut to Picard at Starfleet, telling someone across from him: \"If she is who I think she is, she is in serious danger.\" Others throughout the trailer allude to Briones' character not knowing who she is, or what she's capable of.\"\"\"\n",
    "sentences = sent_tokenize(text)\n",
    "print(sentences)\n"
   ]
  },
  {
   "cell_type": "markdown",
   "metadata": {},
   "source": [
    "## Tokenise Sentences To Words\n"
   ]
  },
  {
   "cell_type": "code",
   "execution_count": 10,
   "metadata": {},
   "outputs": [
    {
     "name": "stdout",
     "output_type": "stream",
     "text": [
      "['Isa', 'Briones', \"'\", 'character', 'Daj', 'appears', 'on', 'screen', ',', 'pleading', 'for', 'Picard', \"'s\", 'help', 'and', 'shelter.', '``', 'Everything', 'inside', 'me', 'says', 'I', 'am', 'safe', 'with', 'you.', \"''\", 'Cut', 'to', 'Picard', 'at', 'Starfleet', ',', 'telling', 'someone', 'across', 'from', 'him', ':', '``', 'If', 'she', 'is', 'who', 'I', 'think', 'she', 'is', ',', 'she', 'is', 'in', 'serious', 'danger.', \"''\", 'Others', 'throughout', 'the', 'trailer', 'allude', 'to', 'Briones', \"'\", 'character', 'not', 'knowing', 'who', 'she', 'is', ',', 'or', 'what', 'she', \"'s\", 'capable', 'of', '.']\n"
     ]
    }
   ],
   "source": [
    "from nltk.tokenize import TreebankWordTokenizer\n",
    "tokenizer = TreebankWordTokenizer()\n",
    "print(tokenizer.tokenize(text))"
   ]
  },
  {
   "cell_type": "markdown",
   "metadata": {},
   "source": [
    "## Remove numbers"
   ]
  },
  {
   "cell_type": "code",
   "execution_count": 11,
   "metadata": {},
   "outputs": [
    {
     "name": "stdout",
     "output_type": "stream",
     "text": [
      "Hellooooo\n"
     ]
    }
   ],
   "source": [
    "import re\n",
    "result = re.sub(r'\\d+', '', '123Hellooooo456789')\n",
    "print(result)"
   ]
  },
  {
   "cell_type": "markdown",
   "metadata": {},
   "source": [
    "## Remove Punctuation"
   ]
  },
  {
   "cell_type": "code",
   "execution_count": 12,
   "metadata": {},
   "outputs": [
    {
     "name": "stdout",
     "output_type": "stream",
     "text": [
      "['Isa', 'Briones', 'character', 'Daj', 'appears', 'on', 'screen', 'pleading', 'for', 'Picard', \"'s\", 'help', 'and', 'shelter.', '``', 'Everything', 'inside', 'me', 'says', 'I', 'am', 'safe', 'with', 'you.', \"''\", 'Cut', 'to', 'Picard', 'at', 'Starfleet', 'telling', 'someone', 'across', 'from', 'him', '``', 'If', 'she', 'is', 'who', 'I', 'think', 'she', 'is', 'she', 'is', 'in', 'serious', 'danger.', \"''\", 'Others', 'throughout', 'the', 'trailer', 'allude', 'to', 'Briones', 'character', 'not', 'knowing', 'who', 'she', 'is', 'or', 'what', 'she', \"'s\", 'capable', 'of']\n"
     ]
    }
   ],
   "source": [
    "import string\n",
    "punctuation = string.punctuation\n",
    "words = tokenizer.tokenize(text)\n",
    "clean_words = [w for w in words if w not in punctuation]\n",
    "print(clean_words)\n"
   ]
  },
  {
   "cell_type": "markdown",
   "metadata": {},
   "source": [
    "## Remove Stopwords"
   ]
  },
  {
   "cell_type": "code",
   "execution_count": 18,
   "metadata": {},
   "outputs": [
    {
     "name": "stderr",
     "output_type": "stream",
     "text": [
      "[nltk_data] Downloading package stopwords to /home/duong/nltk_data...\n",
      "[nltk_data]   Package stopwords is already up-to-date!\n"
     ]
    },
    {
     "data": {
      "text/plain": [
       "True"
      ]
     },
     "execution_count": 18,
     "metadata": {},
     "output_type": "execute_result"
    }
   ],
   "source": [
    "import nltk\n",
    "nltk.download('stopwords')\n"
   ]
  },
  {
   "cell_type": "code",
   "execution_count": 19,
   "metadata": {},
   "outputs": [
    {
     "name": "stdout",
     "output_type": "stream",
     "text": [
      "['The', 'trailer', 'begins', 'Picard', 'trying', 'survive', 'family', 'vineyard', '.']\n"
     ]
    }
   ],
   "source": [
    "from nltk.corpus import stopwords\n",
    "\n",
    "text = \"The trailer begins with Picard trying to survive on his family vineyard.\"\n",
    "words = nltk.word_tokenize(text)\n",
    "stopwords = stopwords.words('english')\n",
    "clean = [w for w in words if w not in stopwords]\n",
    "print(clean)\n",
    "\n"
   ]
  },
  {
   "cell_type": "markdown",
   "metadata": {},
   "source": [
    "## Remove Whitespaces"
   ]
  },
  {
   "cell_type": "code",
   "execution_count": 20,
   "metadata": {},
   "outputs": [
    {
     "data": {
      "text/plain": [
       "['FinTechExplained', 'Is', 'A', 'Publication.', 'This', 'is', 'about', 'NLP']"
      ]
     },
     "execution_count": 20,
     "metadata": {},
     "output_type": "execute_result"
    }
   ],
   "source": [
    "'FinTechExplained Is A      Publication. \\n This is about NLP'.split()\n"
   ]
  },
  {
   "cell_type": "markdown",
   "metadata": {},
   "source": [
    "# Text vectorization: <a href=\"https://www.canva.com/design/DAFobtBChLA/qBsROAzjvn6Zrz1zanYqQQ/edit?utm_content=DAFobtBChLA&utm_campaign=designshare&utm_medium=link2&utm_source=sharebutton\">Link to slides</a>"
   ]
  }
 ],
 "metadata": {
  "kernelspec": {
   "display_name": ".venv",
   "language": "python",
   "name": "python3"
  },
  "language_info": {
   "codemirror_mode": {
    "name": "ipython",
    "version": 3
   },
   "file_extension": ".py",
   "mimetype": "text/x-python",
   "name": "python",
   "nbconvert_exporter": "python",
   "pygments_lexer": "ipython3",
   "version": "3.10.6"
  },
  "orig_nbformat": 4
 },
 "nbformat": 4,
 "nbformat_minor": 2
}
